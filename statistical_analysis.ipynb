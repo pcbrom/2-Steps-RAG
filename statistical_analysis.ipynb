{
 "cells": [
  {
   "cell_type": "code",
   "execution_count": 1,
   "metadata": {},
   "outputs": [
    {
     "name": "stdout",
     "output_type": "stream",
     "text": [
      "Requirement already satisfied: pandas in ./.venv/lib/python3.12/site-packages (2.2.3)\n",
      "Requirement already satisfied: numpy>=1.26.0 in ./.venv/lib/python3.12/site-packages (from pandas) (2.2.3)\n",
      "Requirement already satisfied: python-dateutil>=2.8.2 in ./.venv/lib/python3.12/site-packages (from pandas) (2.9.0.post0)\n",
      "Requirement already satisfied: pytz>=2020.1 in ./.venv/lib/python3.12/site-packages (from pandas) (2025.1)\n",
      "Requirement already satisfied: tzdata>=2022.7 in ./.venv/lib/python3.12/site-packages (from pandas) (2025.1)\n",
      "Requirement already satisfied: six>=1.5 in ./.venv/lib/python3.12/site-packages (from python-dateutil>=2.8.2->pandas) (1.17.0)\n",
      "Note: you may need to restart the kernel to use updated packages.\n"
     ]
    }
   ],
   "source": [
    "%pip install pandas"
   ]
  },
  {
   "cell_type": "code",
   "execution_count": 2,
   "metadata": {},
   "outputs": [],
   "source": [
    "import pandas as pd"
   ]
  },
  {
   "cell_type": "code",
   "execution_count": 22,
   "metadata": {},
   "outputs": [
    {
     "name": "stdout",
     "output_type": "stream",
     "text": [
      "\n",
      "Identifying rows with NA in specified columns:\n",
      "Column quality: Found 21 NA values.\n",
      "Column agreement: Found 21 NA values.\n",
      "Column accuracy: Found 21 NA values.\n",
      "Column hallucination: Found 21 NA values.\n",
      "Saving all rows with NA values to 'all_na_rows.csv'.\n",
      "            quality     agreement      accuracy  hallucination\n",
      "count  18032.000000  18032.000000  18032.000000   18032.000000\n",
      "mean       4.018467      3.990406      3.294532       3.528949\n",
      "std        2.539629      3.006134      2.809528       3.443233\n",
      "min        0.000000      0.000000      0.000000       0.000000\n",
      "25%        2.000000      2.000000      1.000000       0.000000\n",
      "50%        3.000000      2.000000      2.000000       3.000000\n",
      "75%        6.000000      6.000000      5.000000       6.000000\n",
      "max       10.000000     10.000000     10.000000      10.000000\n"
     ]
    }
   ],
   "source": [
    "df = pd.read_csv('model scoring.csv')\n",
    "\n",
    "print(\"\\nIdentifying rows with NA in specified columns:\")\n",
    "cols_to_check = ['quality', 'agreement', 'accuracy', 'hallucination']\n",
    "all_na_rows = pd.DataFrame()\n",
    "\n",
    "for col in cols_to_check:\n",
    "    na_rows = df[df[col].isna()]\n",
    "    if not na_rows.empty:\n",
    "        print(f\"Column {col}: Found {len(na_rows)} NA values.\")\n",
    "        all_na_rows = pd.concat([all_na_rows, na_rows])\n",
    "    else:\n",
    "        print(f\"Column {col}: No NA values found.\")\n",
    "\n",
    "if not all_na_rows.empty:\n",
    "    print(\"Saving all rows with NA values to 'all_na_rows.csv'.\")\n",
    "    all_na_rows.to_csv('all_na_rows.csv', index=True)\n",
    "else:\n",
    "    print(\"No NA values found in any of the specified columns.\")\n",
    "\n",
    "df[cols_to_check] = df[cols_to_check].fillna(0)\n",
    "print(df[['quality', 'agreement', 'accuracy', 'hallucination']].describe())"
   ]
  },
  {
   "cell_type": "code",
   "execution_count": null,
   "metadata": {},
   "outputs": [],
   "source": []
  }
 ],
 "metadata": {
  "kernelspec": {
   "display_name": ".venv",
   "language": "python",
   "name": "python3"
  },
  "language_info": {
   "codemirror_mode": {
    "name": "ipython",
    "version": 3
   },
   "file_extension": ".py",
   "mimetype": "text/x-python",
   "name": "python",
   "nbconvert_exporter": "python",
   "pygments_lexer": "ipython3",
   "version": "3.12.3"
  }
 },
 "nbformat": 4,
 "nbformat_minor": 2
}
