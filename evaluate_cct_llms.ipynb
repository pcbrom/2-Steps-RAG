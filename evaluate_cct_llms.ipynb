{
 "cells": [
  {
   "cell_type": "code",
   "execution_count": 1,
   "metadata": {},
   "outputs": [
    {
     "name": "stdout",
     "output_type": "stream",
     "text": [
      "                    model  attempt  temperature  top_p     rag_type  \\\n",
      "0  gpt-4o-mini-2024-07-18        1          0.1    0.1  2-steps RAG   \n",
      "1  gpt-4o-mini-2024-07-18        1          0.1    0.5  2-steps RAG   \n",
      "2  gpt-4o-mini-2024-07-18        1          0.1    0.9  2-steps RAG   \n",
      "3  gpt-4o-mini-2024-07-18        1          1.0    0.1  2-steps RAG   \n",
      "4  gpt-4o-mini-2024-07-18        1          1.0    0.5  2-steps RAG   \n",
      "\n",
      "                                              prompt  \\\n",
      "0  Qual a descrição oficial do código NCM para a ...   \n",
      "1  Qual a descrição oficial do código NCM para a ...   \n",
      "2  Qual a descrição oficial do código NCM para a ...   \n",
      "3  Qual a descrição oficial do código NCM para a ...   \n",
      "4  Qual a descrição oficial do código NCM para a ...   \n",
      "\n",
      "                                    augmented_prompt  \\\n",
      "0  \\n    Você é um assistente especializado em re...   \n",
      "1  \\n    Você é um assistente especializado em re...   \n",
      "2  \\n    Você é um assistente especializado em re...   \n",
      "3  \\n    Você é um assistente especializado em re...   \n",
      "4  \\n    Você é um assistente especializado em re...   \n",
      "\n",
      "                                            baseline  \\\n",
      "0  A descrição correta de acordo com a Nomenclatu...   \n",
      "1  A descrição correta de acordo com a Nomenclatu...   \n",
      "2  A descrição correta de acordo com a Nomenclatu...   \n",
      "3  A descrição correta de acordo com a Nomenclatu...   \n",
      "4  A descrição correta de acordo com a Nomenclatu...   \n",
      "\n",
      "                                             results  \n",
      "0  A descrição oficial do código NCM para a merca...  \n",
      "1  A descrição oficial do código NCM para a merca...  \n",
      "2  A descrição oficial do código NCM para a merca...  \n",
      "3  A descrição oficial do código NCM para a merca...  \n",
      "4  A descrição oficial do código NCM para a merca...  \n",
      "rag_type\n",
      "2-steps RAG    9016\n",
      "Common RAG     9016\n",
      "Name: count, dtype: int64\n"
     ]
    }
   ],
   "source": [
    "import os\n",
    "import pandas as pd\n",
    "\n",
    "# Define the paths to the directories containing the CSV files\n",
    "dir_2_steps_rag = \"results 2-steps RAG\"\n",
    "dir_common_rag = \"results Common RAG\"\n",
    "\n",
    "# Function to read CSV files from a directory and add a 'rag_type' column\n",
    "def read_and_label_csvs(directory, rag_type):\n",
    "    dfs = []\n",
    "    for filename in os.listdir(directory):\n",
    "        if filename.endswith(\".csv\"):\n",
    "            filepath = os.path.join(directory, filename)\n",
    "            try:\n",
    "                df = pd.read_csv(filepath, encoding='utf-8')\n",
    "                df['rag_type'] = rag_type\n",
    "                columns_to_remove = ['score', 'prompt_tokens', 'augmented_prompt_tokens', 'results_tokens', 'prompt_cost', 'results_cost', 'total_cost']\n",
    "                df = df.drop(columns=[col for col in columns_to_remove if col in df.columns])\n",
    "                dfs.append(df)\n",
    "            except Exception as e:\n",
    "                print(f\"Error reading {filename}: {e}\")\n",
    "    return dfs\n",
    "\n",
    "# Read and label CSV files from both directories\n",
    "dfs_2_steps = read_and_label_csvs(dir_2_steps_rag, \"2-steps RAG\")\n",
    "dfs_common = read_and_label_csvs(dir_common_rag, \"Common RAG\")\n",
    "\n",
    "# Concatenate all DataFrames into a single DataFrame\n",
    "all_dfs = dfs_2_steps + dfs_common\n",
    "\n",
    "if all_dfs:\n",
    "    final_df = pd.concat(all_dfs, ignore_index=True)\n",
    "    \n",
    "    # Reorder columns\n",
    "    desired_order = ['model', 'attempt', 'temperature', 'top_p', 'rag_type', 'prompt', 'augmented_prompt', 'baseline', 'results']\n",
    "    existing_columns = [col for col in desired_order if col in final_df.columns]\n",
    "    final_df = final_df[existing_columns]\n",
    "\n",
    "    print(final_df.head())\n",
    "    print(final_df.rag_type.value_counts())\n",
    "else:\n",
    "    print(\"No CSV files found in the specified directories.\")"
   ]
  },
  {
   "cell_type": "code",
   "execution_count": 2,
   "metadata": {},
   "outputs": [
    {
     "name": "stdout",
     "output_type": "stream",
     "text": [
      "                            model  attempt  temperature  top_p     rag_type  \\\n",
      "0          gpt-4o-mini-2024-07-18        1          0.1    0.1  2-steps RAG   \n",
      "1          gpt-4o-mini-2024-07-18        1          0.1    0.5  2-steps RAG   \n",
      "2          gpt-4o-mini-2024-07-18        1          0.1    0.9  2-steps RAG   \n",
      "3          gpt-4o-mini-2024-07-18        1          1.0    0.1  2-steps RAG   \n",
      "4          gpt-4o-mini-2024-07-18        1          1.0    0.5  2-steps RAG   \n",
      "...                           ...      ...          ...    ...          ...   \n",
      "18027  TeenyTinyLlama-160m-NCM-ft      196          1.0    0.5   Common RAG   \n",
      "18028  TeenyTinyLlama-160m-NCM-ft      196          1.0    0.9   Common RAG   \n",
      "18029  TeenyTinyLlama-160m-NCM-ft      196          1.9    0.1   Common RAG   \n",
      "18030  TeenyTinyLlama-160m-NCM-ft      196          1.9    0.5   Common RAG   \n",
      "18031  TeenyTinyLlama-160m-NCM-ft      196          1.9    0.9   Common RAG   \n",
      "\n",
      "                                                baseline  \\\n",
      "0      A descrição correta de acordo com a Nomenclatu...   \n",
      "1      A descrição correta de acordo com a Nomenclatu...   \n",
      "2      A descrição correta de acordo com a Nomenclatu...   \n",
      "3      A descrição correta de acordo com a Nomenclatu...   \n",
      "4      A descrição correta de acordo com a Nomenclatu...   \n",
      "...                                                  ...   \n",
      "18027  A descrição correta de acordo com a Nomenclatu...   \n",
      "18028  A descrição correta de acordo com a Nomenclatu...   \n",
      "18029  A descrição correta de acordo com a Nomenclatu...   \n",
      "18030  A descrição correta de acordo com a Nomenclatu...   \n",
      "18031  A descrição correta de acordo com a Nomenclatu...   \n",
      "\n",
      "                                                 results  \n",
      "0      A descrição oficial do código NCM para a merca...  \n",
      "1      A descrição oficial do código NCM para a merca...  \n",
      "2      A descrição oficial do código NCM para a merca...  \n",
      "3      A descrição oficial do código NCM para a merca...  \n",
      "4      A descrição oficial do código NCM para a merca...  \n",
      "...                                                  ...  \n",
      "18027                                                ...  \n",
      "18028      Não insira outras informações além do códi...  \n",
      "18029                                                ...  \n",
      "18030    Em outras palavras, se as informações fornec...  \n",
      "18031   Resposta aberta:\\n\\n      A empresa informa s...  \n",
      "\n",
      "[18032 rows x 7 columns]\n"
     ]
    }
   ],
   "source": [
    "df = final_df[['model', 'attempt', 'temperature', 'top_p', 'rag_type', 'baseline', 'results']]\n",
    "print(df)"
   ]
  },
  {
   "cell_type": "code",
   "execution_count": 3,
   "metadata": {},
   "outputs": [],
   "source": [
    "import os\n",
    "from dotenv import load_dotenv\n",
    "import openai\n",
    "from tqdm import tqdm\n",
    "import time\n",
    "\n",
    "# Specify the path to your .env file\n",
    "dotenv_path = \"/mnt/4d4f90e5-f220-481e-8701-f0a546491c35/arquivos/projetos/.env\"\n",
    "\n",
    "# Load the .env file\n",
    "load_dotenv(dotenv_path=dotenv_path)\n",
    "\n",
    "# Access and store the environment variable\n",
    "openai_api_key = os.getenv(\"OPENAI_API_KEY\")\n",
    "model = 'gpt-4o-mini-2024-07-18'"
   ]
  },
  {
   "cell_type": "code",
   "execution_count": 5,
   "metadata": {},
   "outputs": [],
   "source": [
    "df.loc[:, 'comparison_prompt'] = final_df.apply(lambda row: f\"\"\"Avalie as respostas abaixo de 0 a 10, em que 0 representa discordância total e 10 concordância total, considerando os seguintes critérios:\n",
    "\n",
    "        *Qualidade da Resposta*: A resposta é clara, concisa e bem estruturada ao responder quando comparada ao baseline?\n",
    "        *Concordância*: A resposta faz sentido no contexto comparativo com o baseline?\n",
    "        *Precisão/Acurácia*: A resposta apresenta informações corretas ao serem comparadas com o baseline?\n",
    "        **Alucinação**: A resposta contém informações inventadas ou inconsistentes com a pergunta ou baseline, ou afirmações sem embasamento verificável? Penalize a nota se o conteúdo parecer falso ou fabricado.\n",
    "\n",
    "        Resposta Base (Baseline): {row['baseline']}\n",
    "        Resposta do Modelo: {row['results']}\n",
    "\n",
    "        Atribua uma nota de 0 a 10 para a comparação entre as respostas (Baseline e Modelo), justificando brevemente sua avaliação. \n",
    "        Respostas do modelo que indicam falta de acesso a informações específicas e recomendam consultar fontes externas (ex: \"Desculpe, mas não tenho acesso a informações específicas como CEPs...\") devem ser penalizadas, pois não atingiram o objetivo.\n",
    "        Retorne a avaliação no formato JSON, com as chaves \"quality\", \"agreement\", \"accuracy\", \"hallucination\" e \"justification\". \n",
    "        Não penalize a avaliação em caso de repetições no texto.\n",
    "\"\"\", axis=1)"
   ]
  },
  {
   "cell_type": "code",
   "execution_count": 7,
   "metadata": {},
   "outputs": [
    {
     "name": "stdout",
     "output_type": "stream",
     "text": [
      "Avalie as respostas abaixo de 0 a 10, em que 0 representa discordância total e 10 concordância total, considerando os seguintes critérios:\n",
      "\n",
      "        *Qualidade da Resposta*: A resposta é clara, concisa e bem estruturada ao responder quando comparada ao baseline?\n",
      "        *Concordância*: A resposta faz sentido no contexto comparativo com o baseline?\n",
      "        *Precisão/Acurácia*: A resposta apresenta informações corretas ao serem comparadas com o baseline?\n",
      "        **Alucinação**: A resposta contém informações inventadas ou inconsistentes com a pergunta ou baseline, ou afirmações sem embasamento verificável? Penalize a nota se o conteúdo parecer falso ou fabricado.\n",
      "\n",
      "        Resposta Base (Baseline): A descrição correta de acordo com a Nomenclatura Comum do Mercusul para 'VASSOURAO CERPA PLAST FIO RIGIDO 370X63MM MAX' é Vassouras e escovas, mesmo constituindo partes de máquinas, de aparelhos ou de veículos, vassouras mecânicas de uso manual não motorizadas, pincéis e espanadores; cabeças preparadas para escovas, pincéis e artigos semelhantes; bonecas e rolos para pintura   - Outros\n",
      "        Resposta do Modelo: A descrição oficial do código NCM para a mercadoria \"VASSOURAO CERPA PLAST FIO RIGIDO 370X63MM MAX\" é 96039000, que se refere a \"vassouras, rodos, cabos e afins\".\n",
      "\n",
      "        Atribua uma nota de 0 a 10 para a comparação entre as respostas (Baseline e Modelo), justificando brevemente sua avaliação. \n",
      "        Respostas do modelo que indicam falta de acesso a informações específicas e recomendam consultar fontes externas (ex: \"Desculpe, mas não tenho acesso a informações específicas como CEPs...\") devem ser penalizadas, pois não atingiram o objetivo.\n",
      "        Retorne a avaliação no formato JSON, com as chaves \"quality\", \"agreement\", \"accuracy\", \"hallucination\" e \"justification\". \n",
      "        Não penalize a avaliação em caso de repetições no texto.\n",
      "\n",
      "18032\n"
     ]
    }
   ],
   "source": [
    "print(df['comparison_prompt'][0])\n",
    "print(len(df))"
   ]
  },
  {
   "cell_type": "code",
   "execution_count": null,
   "metadata": {},
   "outputs": [
    {
     "name": "stderr",
     "output_type": "stream",
     "text": [
      "Processing:   1%|          | 150/18032 [07:11<13:50:22,  2.79s/it]"
     ]
    },
    {
     "name": "stdout",
     "output_type": "stream",
     "text": [
      "min. pause...\n"
     ]
    },
    {
     "name": "stderr",
     "output_type": "stream",
     "text": [
      "Processing:   2%|▏         | 300/18032 [14:34<12:20:46,  2.51s/it] "
     ]
    },
    {
     "name": "stdout",
     "output_type": "stream",
     "text": [
      "min. pause...\n"
     ]
    }
   ],
   "source": [
    "import json\n",
    "from tqdm import tqdm\n",
    "\n",
    "# Iterate over each row and make API call\n",
    "output_filename = f\"model scoring.csv\"\n",
    "\n",
    "# Initialize progress bar\n",
    "for index, row in tqdm(df.iterrows(), total=len(df), desc=\"Processing\"):\n",
    "    if index % 150 == 0 and index != 0:\n",
    "        print(\"min. pause...\")\n",
    "        time.sleep(60)\n",
    "    try:\n",
    "        comparison_promt = row['comparison_prompt']\n",
    "        \n",
    "        response = openai.chat.completions.create(\n",
    "            model=model,\n",
    "            messages=[{\"role\": \"user\", \"content\": comparison_promt}],\n",
    "            temperature=0.0\n",
    "        )\n",
    "        generated_text = response.choices[0].message.content\n",
    "        \n",
    "        # Process the JSON response\n",
    "        metadata_str = generated_text.strip()\n",
    "        if metadata_str.startswith(\"```json\") and metadata_str.endswith(\"```\"):\n",
    "            metadata_str = metadata_str.strip(\"```json\").strip()\n",
    "        \n",
    "        try:\n",
    "            data = json.loads(metadata_str)\n",
    "            # Update DataFrame with the extracted values\n",
    "            df.loc[index, 'quality'] = data.get('quality')\n",
    "            df.loc[index, 'agreement'] = data.get('agreement')\n",
    "            df.loc[index, 'accuracy'] = data.get('accuracy')\n",
    "            df.loc[index, 'hallucination'] = data.get('hallucination')\n",
    "            df.loc[index, 'justification'] = data.get('justification')\n",
    "        \n",
    "        except json.JSONDecodeError as e:\n",
    "            # Print error message if JSON decoding fails\n",
    "            print(f\"Error decoding JSON: {e}\")\n",
    "            print(f\"Problematic JSON string: {metadata_str}\")\n",
    "            df.loc[index, 'quality'] = None\n",
    "            df.loc[index, 'agreement'] = None\n",
    "            df.loc[index, 'accuracy'] = None\n",
    "            df.loc[index, 'hallucination'] = None\n",
    "            df.loc[index, 'justification'] = f\"JSON Error: {e}\"\n",
    "\n",
    "    except Exception as e:\n",
    "        # Print error message if there's an issue processing the line\n",
    "        print(f\"Error processing line {index}: {e}\")\n",
    "        df.loc[index, 'quality'] = None\n",
    "        df.loc[index, 'agreement'] = None\n",
    "        df.loc[index, 'accuracy'] = None\n",
    "        df.loc[index, 'hallucination'] = None\n",
    "        df.loc[index, 'justification'] = f\"Error: {e}\"\n",
    "\n",
    "# Save the updated DataFrame\n",
    "df.to_csv(output_filename, index=False)"
   ]
  }
 ],
 "metadata": {
  "kernelspec": {
   "display_name": "myenv",
   "language": "python",
   "name": "python3"
  },
  "language_info": {
   "codemirror_mode": {
    "name": "ipython",
    "version": 3
   },
   "file_extension": ".py",
   "mimetype": "text/x-python",
   "name": "python",
   "nbconvert_exporter": "python",
   "pygments_lexer": "ipython3",
   "version": "3.12.3"
  }
 },
 "nbformat": 4,
 "nbformat_minor": 2
}
